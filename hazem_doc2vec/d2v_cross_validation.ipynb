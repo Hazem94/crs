{
 "cells": [
  {
   "cell_type": "heading",
   "metadata": {
    "collapsed": true
   },
   "level": 1,
   "source": [
    "Importing to be used libraries"
   ]
  },
  {
   "cell_type": "code",
   "execution_count": 32,
   "metadata": {},
   "outputs": [],
   "source": [
    "import pandas as pd\n",
    "import numpy as np\n",
    "from hazem_doc2vec.helper_functions import in_pickle, out_pickle\n",
    "import data_analysis.preprocessor_end as pre\n",
    "from sklearn.model_selection import cross_val_score, cross_val_predict\n",
    "from sklearn.metrics import confusion_matrix\n",
    "from sklearn.svm import SVC\n",
    "from sklearn.metrics import classification_report\n",
    "import matplotlib.pyplot as plt\n",
    "import seaborn as sn\n"
   ]
  },
  {
   "cell_type": "code",
   "execution_count": 27,
   "metadata": {},
   "outputs": [],
   "source": [
    "def precision(tp, fp): return tp / (tp + fp)\n",
    "def recall(tp, fn): return tp / (tp + fn)\n",
    "def f1_score(precision, recall): return 2 * ((precision * recall) / (precision + recall))\n",
    "def accuracy(tp, fp, tn, fn): return (tp + tn) / (tp + fp + fn + tn)"
   ]
  },
  {
   "cell_type": "code",
   "execution_count": 3,
   "metadata": {
    "collapsed": false
   },
   "outputs": [
    {
     "name": "stdout",
     "output_type": "stream",
     "text": [
      "Accuracy: 0.72 (+/- 0.04)\nCPU times: user 93 ms, sys: 43.2 ms, total: 136 ms\nWall time: 7min 38s\n"
     ]
    }
   ],
   "source": [
    "%%time\n",
    "X = in_pickle('data/X')     # Corpus \"numpy vectors\"\n",
    "Y = in_pickle('data/Y')     # Corpus \"numpy vector\"\n",
    "\n",
    "clf = SVC(C=10, gamma=0.001, probability=True)\n",
    "scores = cross_val_score(clf, X, Y, cv=10, n_jobs=-1)\n",
    "print(\"Accuracy: %0.2f (+/- %0.2f)\" % (scores.mean(), scores.std() * 2))\n"
   ]
  },
  {
   "cell_type": "code",
   "execution_count": 5,
   "metadata": {},
   "outputs": [
    {
     "name": "stdout",
     "output_type": "stream",
     "text": [
      "[[4463  258]\n [1495   78]]\nCPU times: user 75.7 ms, sys: 17.8 ms, total: 93.5 ms\nWall time: 7min 49s\n"
     ]
    }
   ],
   "source": [
    "%%time\n",
    "y_pred = cross_val_predict(clf, X, Y, cv=10, n_jobs=-1)\n",
    "conf_mat = confusion_matrix(Y, y_pred)\n",
    "print(conf_mat)\n"
   ]
  },
  {
   "cell_type": "code",
   "execution_count": 29,
   "metadata": {},
   "outputs": [
    {
     "name": "stdout",
     "output_type": "stream",
     "text": [
      "CPU times: user 10.9 ms, sys: 573 µs, total: 11.4 ms\nWall time: 9.85 ms\n"
     ]
    }
   ],
   "source": [
    "%%time\n",
    "tn, fp, fn, tp = confusion_matrix(Y, y_pred).ravel()\n",
    "precision = precision(tp, fp)\n",
    "recall = recall(tp, fn)\n",
    "f1_score = f1_score(precision, recall)\n",
    "accuracy = accuracy(tp, fp, tn, fn)"
   ]
  },
  {
   "cell_type": "code",
   "execution_count": 11,
   "metadata": {},
   "outputs": [
    {
     "data": {
      "text/plain": [
       "(4463, 258, 1495, 78)"
      ]
     },
     "execution_count": 11,
     "metadata": {},
     "output_type": "execute_result"
    }
   ],
   "source": [
    "(tn, fp, fn, tp)"
   ]
  },
  {
   "cell_type": "code",
   "execution_count": 12,
   "metadata": {},
   "outputs": [
    {
     "data": {
      "text/plain": [
       "(0.23214285714285715,\n 0.049586776859504134,\n 0.08171817705605029,\n 0.7214807753415952)"
      ]
     },
     "execution_count": 12,
     "metadata": {},
     "output_type": "execute_result"
    }
   ],
   "source": [
    "(precision, recall, f1_score, accuracy)\n"
   ]
  },
  {
   "cell_type": "code",
   "execution_count": 30,
   "metadata": {},
   "outputs": [
    {
     "name": "stdout",
     "output_type": "stream",
     "text": [
      "              precision    recall  f1-score   support\n\n           0       0.75      0.95      0.84      4721\n           1       0.23      0.05      0.08      1573\n\n   micro avg       0.72      0.72      0.72      6294\n   macro avg       0.49      0.50      0.46      6294\nweighted avg       0.62      0.72      0.65      6294\n\n"
     ]
    }
   ],
   "source": [
    "print(classification_report(Y, y_pred))"
   ]
  },
  {
   "cell_type": "code",
   "execution_count": 35,
   "metadata": {},
   "outputs": [],
   "source": [
    "df_cm = pd.DataFrame(conf_mat)\n",
    "#plt.figure(figsize = (10,7))\n",
    "sn.set(font_scale=1.4)#for label size\n",
    "sn.heatmap(df_cm, annot=True,annot_kws={\"size\": 16})# font size\n",
    "plt.xlabel('Predicted')\n",
    "plt.ylabel('Actual')\n",
    "plt.show()\n"
   ]
  },
  {
   "cell_type": "code",
   "execution_count": 37,
   "metadata": {},
   "outputs": [],
   "source": [
    "# Save the plot\n",
    "fig = plt.figure()\n",
    "plt.matshow(conf_mat)\n",
    "plt.colorbar()\n",
    "plt.ylabel('Actual')\n",
    "plt.xlabel('Predicated')\n",
    "plt.savefig('approach_1.png')"
   ]
  },
  {
   "cell_type": "code",
   "execution_count": null,
   "metadata": {},
   "outputs": [],
   "source": []
  }
 ],
 "metadata": {
  "kernelspec": {
   "display_name": "Python 2",
   "language": "python",
   "name": "python2"
  },
  "language_info": {
   "codemirror_mode": {
    "name": "ipython",
    "version": 2
   },
   "file_extension": ".py",
   "mimetype": "text/x-python",
   "name": "python",
   "nbconvert_exporter": "python",
   "pygments_lexer": "ipython2",
   "version": "2.7.6"
  }
 },
 "nbformat": 4,
 "nbformat_minor": 0
}
