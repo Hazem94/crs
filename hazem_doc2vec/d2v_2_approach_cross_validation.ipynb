{
 "cells": [
  {
   "cell_type": "heading",
   "metadata": {
    "collapsed": true
   },
   "level": 1,
   "source": [
    "Importing to be used libraries"
   ]
  },
  {
   "cell_type": "code",
   "execution_count": 70,
   "metadata": {},
   "outputs": [],
   "source": [
    "import pandas as pd\n",
    "import numpy as np\n",
    "from hazem_doc2vec.helper_functions import in_pickle, out_pickle\n",
    "import data_analysis.preprocessor_end as pre\n",
    "from sklearn.model_selection import cross_val_score, cross_val_predict\n",
    "from sklearn.metrics import confusion_matrix, accuracy_score\n",
    "from sklearn.svm import SVC\n",
    "from sklearn.metrics import classification_report\n",
    "import random\n",
    "import matplotlib.pyplot as plt\n",
    "import seaborn as sn\n"
   ]
  },
  {
   "cell_type": "code",
   "execution_count": 71,
   "metadata": {},
   "outputs": [],
   "source": [
    "def precision(tp, fp): return tp / (tp + fp)\n",
    "def recall(tp, fn): return tp / (tp + fn)\n",
    "def f1_score(precision, recall): return 2 * ((precision * recall) / (precision + recall))\n",
    "def accuracy(tp, fp, tn, fn): return (tp + tn) / (tp + fp + fn + tn)"
   ]
  },
  {
   "cell_type": "code",
   "execution_count": 6,
   "metadata": {},
   "outputs": [
    {
     "name": "stdout",
     "output_type": "stream",
     "text": [
      "CPU times: user 7.37 ms, sys: 3.9 ms, total: 11.3 ms\nWall time: 17.6 ms\n"
     ]
    }
   ],
   "source": [
    "%%time\n",
    "X = in_pickle('data/X')     \n",
    "Y = in_pickle('data/Y')     \n",
    "\n",
    "clf = SVC(C=10, gamma=0.001, probability=True)"
   ]
  },
  {
   "cell_type": "code",
   "execution_count": 54,
   "metadata": {},
   "outputs": [
    {
     "name": "stdout",
     "output_type": "stream",
     "text": [
      "Number of positive docs:  1573\nNumber of negative docs:  4721\nPercentage of positive docs:  0.24992055926278997\nPercentage of negative docs:  0.75007944073721\nCPU times: user 10.2 ms, sys: 0 ns, total: 10.2 ms\nWall time: 9.68 ms\n"
     ]
    }
   ],
   "source": [
    "%%time\n",
    "# of the form [ [[vec_1], label_1], ..]\n",
    "pos_docs = []\n",
    "neg_docs = []\n",
    "\n",
    "for i in range(len(X)):\n",
    "    if Y[i] == 0:\n",
    "        neg_docs.append([X[i], 0])\n",
    "    else: \n",
    "        pos_docs.append([X[i], 1])\n",
    "\n",
    "pos_num = len(pos_docs)\n",
    "neg_num = len(neg_docs)\n",
    "total = pos_num + neg_num\n",
    "\n",
    "print(\"Number of positive docs: \", pos_num)\n",
    "print(\"Number of negative docs: \", neg_num)\n",
    "print(\"Percentage of positive docs: \", pos_num / total)\n",
    "print(\"Percentage of negative docs: \", neg_num / total)\n"
   ]
  },
  {
   "cell_type": "heading",
   "metadata": {},
   "level": 1,
   "source": [
    "Now, as the percentage of the negative docs = 0.25 the positive docs = 0.75\n",
    "\n",
    "We take all the negative docs and a similar number of ngative docs and the rest of the \n",
    "negative docs as the test set "
   ]
  },
  {
   "cell_type": "code",
   "execution_count": 81,
   "metadata": {},
   "outputs": [
    {
     "name": "stdout",
     "output_type": "stream",
     "text": [
      "# of test docs:  3149\n# of train docs 3146\nCPU times: user 1.01 ms, sys: 54 µs, total: 1.06 ms\nWall time: 997 µs\n"
     ]
    }
   ],
   "source": [
    "%%time\n",
    "train_pos = list(pos_docs)\n",
    "train_neg = []\n",
    "i = 0\n",
    "for i in range(len(train_pos)):\n",
    "    train_neg.append(neg_docs[i])\n",
    "\n",
    "test = neg_docs[i:]\n",
    "\n",
    "print(\"# of test docs: \", len(test))\n",
    "print(\"# of train docs\", 2 * len(train_pos))"
   ]
  },
  {
   "cell_type": "code",
   "execution_count": 99,
   "metadata": {
    "collapsed": true
   },
   "outputs": [
    {
     "name": "stdout",
     "output_type": "stream",
     "text": [
      "CPU times: user 17.6 ms, sys: 16 ms, total: 33.5 ms\nWall time: 31.8 ms\n"
     ]
    }
   ],
   "source": [
    "%%time\n",
    "temp_train_x = train_neg + train_pos\n",
    "\n",
    "random.shuffle(temp_train_x)\n",
    "\n",
    "# train doc vectors\n",
    "train_x = np.empty([len(temp_train_x), 300], dtype=np.float)\n",
    "# train labels\n",
    "train_y = np.empty(len(temp_train_x), dtype=np.int)\n",
    "for i in range(len(temp_train_x)):\n",
    "    train_x[i] = temp_train_x[i][0]     # vector\n",
    "    train_y[i] = temp_train_x[i][1]     # label\n",
    "\n",
    "\n",
    "test_x = np.empty([len(test), 300], dtype=np.float)     # vectors\n",
    "test_y = np.empty(len(test), dtype=np.int)              # labels\n",
    "for i in range(len(test)):\n",
    "    test_x[i] = test[i][0]\n",
    "    test_y[i] = test[i][1]\n"
   ]
  },
  {
   "cell_type": "code",
   "execution_count": 4,
   "metadata": {},
   "outputs": [
    {
     "name": "stdout",
     "output_type": "stream",
     "text": [
      "CPU times: user 4.61 ms, sys: 16.3 ms, total: 20.9 ms\nWall time: 19.6 ms\n"
     ]
    }
   ],
   "source": [
    "%%time\n",
    "train_x = in_pickle('data/sec_approach/train_x')\n",
    "train_y = in_pickle('data/sec_approach/train_y')\n",
    "test_x = in_pickle('data/sec_approach/test_x')\n",
    "test_y = in_pickle('data/sec_approach/test_y')"
   ]
  },
  {
   "cell_type": "code",
   "execution_count": 69,
   "metadata": {},
   "outputs": [
    {
     "name": "stdout",
     "output_type": "stream",
     "text": [
      "CPU times: user 23.1 s, sys: 98.4 ms, total: 23.2 s\nWall time: 23.3 s\n"
     ]
    }
   ],
   "source": [
    "%%time\n",
    "clf = SVC(C=10, gamma=0.001, probability=True)\n",
    "clf.fit(train_x, train_y)"
   ]
  },
  {
   "cell_type": "code",
   "execution_count": 6,
   "metadata": {},
   "outputs": [
    {
     "name": "stdout",
     "output_type": "stream",
     "text": [
      "[[ 515 2634]\n [   0    0]]\nCPU times: user 3.62 s, sys: 8 µs, total: 3.62 s\nWall time: 3.61 s\n"
     ]
    }
   ],
   "source": [
    "%%time\n",
    "y_pred = clf.predict(test_x)\n",
    "conf_mat = confusion_matrix(test_y, y_pred)\n",
    "print(conf_mat)\n"
   ]
  },
  {
   "cell_type": "code",
   "execution_count": 7,
   "metadata": {},
   "outputs": [
    {
     "name": "stdout",
     "output_type": "stream",
     "text": [
      "CPU times: user 7.62 ms, sys: 0 ns, total: 7.62 ms\nWall time: 6.62 ms\n"
     ]
    },
    {
     "name": "stderr",
     "output_type": "stream",
     "text": [
      "/home/hazem/crs/venv/lib/python3.5/site-packages/ipykernel_launcher.py:2: RuntimeWarning: invalid value encountered in long_scalars\n  \n"
     ]
    }
   ],
   "source": [
    "%%time\n",
    "tn, fp, fn, tp = confusion_matrix(test_y, y_pred).ravel()\n",
    "precision = precision(tp, fp)\n",
    "recall = recall(tp, fn)\n",
    "f1_score = f1_score(precision, recall)\n",
    "\n",
    "accuracy = accuracy(tp, fp, tn, fn)"
   ]
  },
  {
   "cell_type": "code",
   "execution_count": 8,
   "metadata": {},
   "outputs": [
    {
     "data": {
      "text/plain": [
       "(515, 2634, 0, 0)"
      ]
     },
     "execution_count": 8,
     "metadata": {},
     "output_type": "execute_result"
    }
   ],
   "source": [
    "(tn, fp, fn, tp)"
   ]
  },
  {
   "cell_type": "code",
   "execution_count": 9,
   "metadata": {},
   "outputs": [
    {
     "data": {
      "text/plain": [
       "(0.0, nan, nan, 0.16354398221657668)"
      ]
     },
     "execution_count": 9,
     "metadata": {},
     "output_type": "execute_result"
    }
   ],
   "source": [
    "(precision, recall, f1_score, accuracy)\n"
   ]
  },
  {
   "cell_type": "code",
   "execution_count": 12,
   "metadata": {},
   "outputs": [
    {
     "name": "stdout",
     "output_type": "stream",
     "text": [
      "              precision    recall  f1-score   support\n\n           0       1.00      0.16      0.28      3149\n           1       0.00      0.00      0.00         0\n\n   micro avg       0.16      0.16      0.16      3149\n   macro avg       0.50      0.08      0.14      3149\nweighted avg       1.00      0.16      0.28      3149\n\n"
     ]
    }
   ],
   "source": [
    "print(classification_report(test_y, y_pred))"
   ]
  },
  {
   "cell_type": "code",
   "execution_count": 78,
   "metadata": {},
   "outputs": [],
   "source": [
    "df_cm = pd.DataFrame(conf_mat)\n",
    "#plt.figure(figsize = (10,7))\n",
    "sn.set(font_scale=1.4)#for label size\n",
    "sn.heatmap(df_cm, annot=True,annot_kws={\"size\": 16})# font size\n",
    "plt.xlabel('Predicted')\n",
    "plt.ylabel('Actual')\n",
    "plt.show()\n"
   ]
  },
  {
   "cell_type": "code",
   "execution_count": null,
   "metadata": {},
   "outputs": [],
   "source": []
  }
 ],
 "metadata": {
  "kernelspec": {
   "display_name": "Python 2",
   "language": "python",
   "name": "python2"
  },
  "language_info": {
   "codemirror_mode": {
    "name": "ipython",
    "version": 2
   },
   "file_extension": ".py",
   "mimetype": "text/x-python",
   "name": "python",
   "nbconvert_exporter": "python",
   "pygments_lexer": "ipython2",
   "version": "2.7.6"
  }
 },
 "nbformat": 4,
 "nbformat_minor": 0
}
