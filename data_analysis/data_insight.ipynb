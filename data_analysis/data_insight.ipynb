{
 "cells": [
  {
   "cell_type": "code",
   "execution_count": 54,
   "metadata": {},
   "outputs": [],
   "source": [
    "import data_analysis\n",
    "import os\n",
    "from shutil import copy\n",
    "import pickle\n",
    "import pandas as pd\n",
    "import math\n",
    "import matplotlib.pyplot as plt"
   ]
  },
  {
   "cell_type": "heading",
   "metadata": {},
   "level": 1,
   "source": [
    "Functions Defintions"
   ]
  },
  {
   "cell_type": "code",
   "execution_count": 3,
   "metadata": {},
   "outputs": [],
   "source": [
    "# 0_label: suitable for children\n",
    "# 1_label: not suitable for children \n",
    "\n",
    "def get_percentage_of_labeled_data(labeled_0_words_count, labeled_1_words_count):\n",
    "    \"\"\"\n",
    "    Function to get the percentage of a labeled dataset out of the total corpus\n",
    "    :param labeled_0_words_count: count of words in label_0 docs\n",
    "    :param labeled_1_words_count: count of words in label_1 docs\n",
    "    :return: percentage_labeled_0, percentage_labeled_1\n",
    "    \"\"\"\n",
    "    total = labeled_0_words_count + labeled_1_words_count\n",
    "    return float(\"%.3f\" % (labeled_0_words_count / total)), \\\n",
    "           float(\"%.3f\" % (labeled_1_words_count / total))\n",
    "\n",
    "\n",
    "def get_average_docs_length(docs_info_lst):\n",
    "    \"\"\"\n",
    "    Function to get the average length of 0, 1 labeled docs in terms of words\n",
    "    :param docs_info_lst: lst of tuples of the form [(words_count, movie_id, rating), ..]\n",
    "    :return: average_docs_length \n",
    "    \"\"\"\n",
    "    total = 0\n",
    "    for file in docs_info_lst:\n",
    "        total += file[0]\n",
    "    return int(total / len(docs_info_lst))\n",
    "\n",
    "\n",
    "def get_dict_of_words_totalCount_docsCount(data_dictionary, label):\n",
    "    \"\"\" \n",
    "    Function to make a dict that represents words in each labeled data\n",
    "    :param data_dictionary: dict of the form {\"label_#: {\"movie_id\": [\"w_0\", \"w_1\", ...]}, .. }\n",
    "           label: string, 0_label or 1_label\n",
    "    :return: words_dict: a dict of the form: \n",
    "                        {word_0: [number_of_total_occurrence_in_a_labeled_data, \n",
    "                                 {movie_0: [number_of_occurrence_in_movie_0, \n",
    "                                  ... }\n",
    "                                ]\n",
    "                         ...\n",
    "                         }         \n",
    "    \"\"\"\n",
    "    words_dict = {}\n",
    "    # For each movie\n",
    "    for movie_name in data_dictionary[label]:\n",
    "        # For each word in this movie\n",
    "        for word in data_dictionary[label][movie_name]:\n",
    "            # If word is already exists in the dict\n",
    "            if word in words_dict:\n",
    "                # Increase the count of this word in teh total count among all docs\n",
    "                words_dict[word][0] += 1\n",
    "\n",
    "                # Increasing the count of this word in each doc, \"{movie_0: [doc_1_count, ..], ..}\"\n",
    "                if movie_name in words_dict[word][1]:\n",
    "                    #\n",
    "                    (words_dict[word][1])[movie_name] += 1\n",
    "                else:\n",
    "                    # Initialize\n",
    "                    (words_dict[word][1])[movie_name] = 1\n",
    "            # If word is not found in the dict before, initialize\n",
    "            else:\n",
    "                words_dict[word] = [1, {movie_name: 1}]\n",
    "    return words_dict\n",
    "\n",
    "def out_pickle(pickle_path, pick_name, variable_name):\n",
    "    \"\"\"\n",
    "    Function that pickles out a variable\n",
    "    :param pickle_path: in pickle's path\n",
    "    :param pick_name: in pickle's name 'without .pkl extension'\n",
    "    :param variable_name: the variable to be pickled out\n",
    "    :return: nothing\n",
    "    \"\"\"\n",
    "    with open(pickle_path + pick_name + \".pkl\", \"wb\") as pkl:\n",
    "        pickle.dump(variable_name, pkl)\n",
    "\n",
    "def in_pickle(pickle_path, pick_name):\n",
    "    \"\"\"\n",
    "    Function that pickles in a variable\n",
    "    :param pickle_path: in pickle's path\n",
    "    :param pick_name: in pickle's name 'without .pkl extension'\n",
    "    :return: the variable that contains pickled in data\n",
    "    \"\"\"\n",
    "    with open(pickle_path + pick_name + \".pkl\", \"rb\") as pkl:\n",
    "        return pickle.load(pkl)\n",
    "    \n",
    "#plots\n",
    "def plot_pie_char_and_save_it(list_of_slice_values, list_of_slice_names, file_path_name):\n",
    "    plt.figure(figsize=(10,10))\n",
    "    plt.pie(list_of_slice_values, labels=list_of_slice_names, startangle=90, autopct='%.1f%%')\n",
    "    plt.savefig(file_path_name)\n",
    "    plt.show()\n"
   ]
  },
  {
   "cell_type": "code",
   "execution_count": 4,
   "metadata": {
    "collapsed": true
   },
   "outputs": [
    {
     "name": "stdout",
     "output_type": "stream",
     "text": [
      "Wall time: 5.24 s\n"
     ]
    }
   ],
   "source": [
    "%%time\n",
    "# {\"label_#: {\"movie_id\": [\"w_0\", \"w_1\", ...]}, .. }\n",
    "data_dictionary = in_pickle('C:/Users/Abdo/Project/pickle_files/', 'data_dictionary_before_removing_frequent_words')"
   ]
  },
  {
   "cell_type": "code",
   "execution_count": 6,
   "metadata": {},
   "outputs": [],
   "source": [
    "'''{word_0: [number_of_total_occurrence_in_a_labeled_data, \n",
    "                                 {movie_0: [number_of_occurrence_in_movie_0, \n",
    "                                  ... }\n",
    "                                ]\n",
    "                         ...\n",
    "                         }'''\n",
    "dict_of_0_label_words = get_dict_of_words_totalCount_docsCount(data_dictionary, \"0_label\")\n",
    "dict_of_1_label_words = get_dict_of_words_totalCount_docsCount(data_dictionary, \"1_label\")"
   ]
  },
  {
   "cell_type": "code",
   "execution_count": 9,
   "metadata": {
    "collapsed": true
   },
   "outputs": [],
   "source": [
    "pandas_dict = {}\n",
    "\n",
    "pandas_dict[\"rating\"] = []\n",
    "pandas_dict [\"movie_id\"] = []\n",
    "pandas_dict [\"movie_words\"] = []"
   ]
  },
  {
   "cell_type": "code",
   "execution_count": 10,
   "metadata": {},
   "outputs": [
    {
     "name": "stdout",
     "output_type": "stream",
     "text": [
      "Wall time: 9.97 ms\n"
     ]
    }
   ],
   "source": [
    "%%time\n",
    "for label in list(data_dictionary.keys())[:2]:\n",
    "    for movie_name in data_dictionary[label]:\n",
    "        pandas_dict[\"rating\"].append(label)\n",
    "        pandas_dict[\"movie_words\"].append(data_dictionary[label][movie_name])\n",
    "        pandas_dict[\"movie_id\"].append(movie_name)"
   ]
  },
  {
   "cell_type": "code",
   "execution_count": 11,
   "metadata": {},
   "outputs": [],
   "source": [
    "# row: index\n",
    "# columns : rating, movie_id, [word_1, word_2, ...]\n",
    "data_frames = pd.DataFrame(data=pandas_dict,\n",
    "                           columns=[\"rating\", \"movie_id\", \"movie_words\"])"
   ]
  },
  {
   "cell_type": "heading",
   "metadata": {},
   "level": 1,
   "source": [
    "Pickling out dict_of_0_label_words, dict_of_1_label_words, data_frames"
   ]
  },
  {
   "cell_type": "code",
   "execution_count": 9,
   "metadata": {},
   "outputs": [
    {
     "name": "stdout",
     "output_type": "stream",
     "text": [
      "CPU times: user 8.18 s, sys: 892 ms, total: 9.07 s\nWall time: 10.8 s\n"
     ]
    }
   ],
   "source": [
    "%%time\n",
    "out_pickle('C:/Users/Abdo/Project/pickle_files/', 'dict_of_0_label_words', dict_of_0_label_words)\n",
    "out_pickle('C:/Users/Abdo/Project/pickle_files/', 'dict_of_1_label_words', dict_of_1_label_words)\n",
    "out_pickle('C:/Users/Abdo/Project/pickle_files/', 'pandas_data_frame', data_frames)"
   ]
  },
  {
   "cell_type": "heading",
   "metadata": {},
   "level": 1,
   "source": [
    "Loading the pandas_data_frame,dict_of_1_label_words, dict_of_0_label_words  pickle object"
   ]
  },
  {
   "cell_type": "code",
   "execution_count": 5,
   "metadata": {},
   "outputs": [],
   "source": [
    "data_frames = in_pickle('C:/Users/Abdo/Project/pickle_files/', 'pandas_data_frame')\n",
    "dict_of_0_label_words = in_pickle('C:/Users/Abdo/Project/pickle_files/', 'dict_of_0_label_words')\n",
    "dict_of_1_label_words = in_pickle('C:/Users/Abdo/Project/pickle_files/', 'dict_of_1_label_words')"
   ]
  },
  {
   "cell_type": "heading",
   "metadata": {},
   "level": 1,
   "source": [
    "Loading the W2V model as a picke object"
   ]
  },
  {
   "cell_type": "code",
   "execution_count": 6,
   "metadata": {},
   "outputs": [
    {
     "name": "stderr",
     "output_type": "stream",
     "text": [
      "C:\\Users\\Abdo\\PycharmProjects\\final_project_1\\venv\\lib\\site-packages\\gensim\\utils.py:1212: UserWarning: detected Windows; aliasing chunkize to chunkize_serial\n  warnings.warn(\"detected Windows; aliasing chunkize to chunkize_serial\")\n"
     ]
    }
   ],
   "source": [
    "\n",
    "model = in_pickle('C:/Users/Abdo/Documents/word2vec models/', 'word2vecModel_glove_6b_200d')\n"
   ]
  },
  {
   "cell_type": "heading",
   "metadata": {},
   "level": 1,
   "source": [
    "Extracting the information from data_frame into a list of tuples"
   ]
  },
  {
   "cell_type": "code",
   "execution_count": 7,
   "metadata": {},
   "outputs": [],
   "source": [
    "# wCount_movieId_rating_lst: list of tuples: [ (words_count, movie_id, rating), ..... ] of the corpus \"both labels\"\n",
    "wordCount_movieId_rating_lst = []\n",
    "\n",
    "for index, row in data_frames.iterrows():\n",
    "    movie_id = row[\"movie_id\"]\n",
    "    rating = row[\"rating\"]\n",
    "    length = len(row[\"movie_words\"])\n",
    "    wordCount_movieId_rating_lst.append((length, movie_id, rating))\n",
    "    wordCount_movieId_rating_lst.sort()"
   ]
  },
  {
   "cell_type": "heading",
   "metadata": {
    "collapsed": false
   },
   "level": 1,
   "source": [
    "Data Statistics"
   ]
  },
  {
   "cell_type": "code",
   "execution_count": 8,
   "metadata": {},
   "outputs": [
    {
     "name": "stdout",
     "output_type": "stream",
     "text": [
      "number_of_0_label_docs  1577\nnumber_of_1_label_docs  4734\npercentage_0_labeled_docs  0.25\npercentage_1_labeled_docs  0.75\naverage_docs_length  3275\nmin_number_of_words  (54, 'PG_54', '0_label')\nmax_number_of_words  (13765, 'PG-13_5058', '1_label')\n"
     ]
    }
   ],
   "source": [
    "# Number of 0 & 1 labeled docs\n",
    "number_of_0_label_docs = len(data_dictionary[\"0_label\"])\n",
    "number_of_1_label_docs = len(data_dictionary[\"1_label\"])\n",
    "\n",
    "# percentage of 0, 1 labeled docs among the whole corpus\n",
    "percentage_0_labeled_docs, percentage_1_labeled_docs = \\\n",
    "    get_percentage_of_labeled_data(number_of_0_label_docs, number_of_1_label_docs)\n",
    "\n",
    "# find the max, and min number of words among all documents\n",
    "min_number_of_words = wordCount_movieId_rating_lst[0]\n",
    "max_number_of_words = wordCount_movieId_rating_lst[-1]\n",
    "\n",
    "# average docs length in terms of words \n",
    "average_docs_length = get_average_docs_length(wordCount_movieId_rating_lst)\n",
    "\n",
    "print(\"number_of_0_label_docs \",number_of_0_label_docs)\n",
    "print(\"number_of_1_label_docs \",number_of_1_label_docs)\n",
    "print(\"percentage_0_labeled_docs \",percentage_0_labeled_docs)\n",
    "print(\"percentage_1_labeled_docs \",percentage_1_labeled_docs)\n",
    "print(\"average_docs_length \",average_docs_length)\n",
    "print(\"min_number_of_words \", min_number_of_words)\n",
    "print(\"max_number_of_words \", max_number_of_words)\n"
   ]
  },
  {
   "cell_type": "code",
   "execution_count": 9,
   "metadata": {},
   "outputs": [
    {
     "name": "stderr",
     "output_type": "stream",
     "text": [
      "C:\\Users\\Abdo\\PycharmProjects\\final_project_1\\venv\\lib\\site-packages\\ipykernel_launcher.py:3: DeprecationWarning: Call to deprecated `wv` (Attribute will be removed in 4.0.0, use self instead).\n  This is separate from the ipykernel package so we can avoid doing imports until\n"
     ]
    }
   ],
   "source": [
    "\n",
    "# from the word2vec model\n",
    "vocabulary = set(model.wv.vocab)"
   ]
  },
  {
   "cell_type": "code",
   "execution_count": 10,
   "metadata": {},
   "outputs": [],
   "source": [
    "label_0_keys = list(dict_of_0_label_words.keys())\n",
    "label_1_keys = list(dict_of_1_label_words.keys())"
   ]
  },
  {
   "cell_type": "code",
   "execution_count": 11,
   "metadata": {
    "collapsed": false
   },
   "outputs": [
    {
     "data": {
      "text/plain": [
       "(76587, 148973)"
      ]
     },
     "execution_count": 11,
     "metadata": {},
     "output_type": "execute_result"
    }
   ],
   "source": [
    "(len(label_0_keys), len(label_1_keys))"
   ]
  },
  {
   "cell_type": "code",
   "execution_count": 12,
   "metadata": {},
   "outputs": [],
   "source": [
    "inappropriate_words = []\n",
    "# key : inappropriate_word\n",
    "#value : [total_occurences, {movie_id: occurenes_in_movie,movie_id: occurenes_in_movie,.....}]\n",
    "inappropriate_words_in_0_label_movies = {}"
   ]
  },
  {
   "cell_type": "heading",
   "metadata": {},
   "level": 2,
   "source": [
    "load the inappropriate_words from a text file "
   ]
  },
  {
   "cell_type": "code",
   "execution_count": 13,
   "metadata": {},
   "outputs": [],
   "source": [
    "file = open(\"C:/Users/Abdo/Project/Notes/inappropriate_words.txt\",\"r\")\n",
    "for word in file.readlines():\n",
    "    inappropriate_words.append(word.replace(\"\\n\",\"\"))"
   ]
  },
  {
   "cell_type": "code",
   "execution_count": 29,
   "metadata": {},
   "outputs": [],
   "source": [
    "#fill the values \n",
    "for inappropriate_word in inappropriate_words:\n",
    "    # if word exist in dict\n",
    "    if inappropriate_word in dict_of_0_label_words:\n",
    "        # [0,[]] = [total_occurrence_of_word, {movie_name:occurrences_of_word_in_it, ...}]\n",
    "        inappropriate_words_in_0_label_movies[inappropriate_word] = dict_of_0_label_words[inappropriate_word]\n",
    "    else:\n",
    "        #initialize the value \n",
    "        inappropriate_words_in_0_label_movies[inappropriate_word] = [0,[]]"
   ]
  },
  {
   "cell_type": "heading",
   "metadata": {},
   "level": 2,
   "source": [
    "pickle out the inappropriate_words_in_0_label_movies dictionary"
   ]
  },
  {
   "cell_type": "code",
   "execution_count": 17,
   "metadata": {},
   "outputs": [],
   "source": [
    "\n",
    "out_pickle('C:/Users/Abdo/Project/pickle_files/', 'inappropriate_words_in_0_label_movies', inappropriate_words_in_0_label_movies)"
   ]
  },
  {
   "cell_type": "heading",
   "metadata": {},
   "level": 2,
   "source": [
    "read the inappropriate_words_in_0_label_movies pickle"
   ]
  },
  {
   "cell_type": "code",
   "execution_count": 14,
   "metadata": {},
   "outputs": [],
   "source": [
    "inappropriate_words_in_0_label_movies = in_pickle('C:/Users/Abdo/Project/pickle_files/', 'inappropriate_words_in_0_label_movies')"
   ]
  },
  {
   "cell_type": "code",
   "execution_count": 15,
   "metadata": {},
   "outputs": [],
   "source": [
    "#total_words_in_all_movies\n",
    "all_text_words = set(dict_of_1_label_words.keys())\n",
    "all_text_words.update(set(dict_of_0_label_words.keys()))"
   ]
  },
  {
   "cell_type": "code",
   "execution_count": 16,
   "metadata": {},
   "outputs": [],
   "source": [
    "common_words = set(dict_of_1_label_words.keys()).intersection(set(dict_of_0_label_words.keys()))"
   ]
  },
  {
   "cell_type": "code",
   "execution_count": 17,
   "metadata": {},
   "outputs": [],
   "source": [
    "percentage_of_common_words = len(common_words)/len(all_text_words)"
   ]
  },
  {
   "cell_type": "code",
   "execution_count": 18,
   "metadata": {},
   "outputs": [],
   "source": [
    "unique_words_in_0_label = set(dict_of_0_label_words.keys()).difference(common_words)\n",
    "unique_words_in_1_label = set(dict_of_1_label_words.keys()).difference(common_words)"
   ]
  },
  {
   "cell_type": "code",
   "execution_count": 19,
   "metadata": {},
   "outputs": [],
   "source": [
    "# key : word\n",
    "# value : [ [total frequency, {movie_name: frequency_of_word_in_movie},..] , .... ] \n",
    "frequency_of_unique_words_in_0_label = {}\n",
    "frequency_of_unique_words_in_1_label = {}"
   ]
  },
  {
   "cell_type": "code",
   "execution_count": 20,
   "metadata": {},
   "outputs": [],
   "source": [
    "# takes the label name and a dictionary of the shape, to fill:\n",
    "# key : word\n",
    "# value : [ [total frequency, {movie_name: frequency_of_word_in_movie},..] , .... ] \n",
    "def get_frequency_of_uinque_words_in_labeled_documents(label_name, unique_words_of_label,frequency_of_unique_words_of_label):\n",
    "    for movie_name in data_dictionary[label_name]:\n",
    "        for word in data_dictionary[label_name][movie_name]:\n",
    "            # if this word is a unique of word of this label, else continue to next iteration\n",
    "            if word in unique_words_of_label:\n",
    "                # if it already exist, update its value\n",
    "                if word in frequency_of_unique_words_of_label:\n",
    "                    # increase the total frequency by one\n",
    "                    frequency_of_unique_words_of_label[word][0] += 1\n",
    "                    # if the movie_name exist in the frequency_of_unique_words_of_label[1] dict\n",
    "                    if movie_name in frequency_of_unique_words_of_label[word][1]:\n",
    "                        frequency_of_unique_words_of_label[word][1][movie_name] +=1\n",
    "                    # if not, initialize it to 1\n",
    "                    else:\n",
    "                        frequency_of_unique_words_of_label[word][1][movie_name] = 1\n",
    "                # add the word to dict if it doesn't exist\n",
    "                else:\n",
    "                    frequency_of_unique_words_of_label[word] = [1, {movie_name:1}]"
   ]
  },
  {
   "cell_type": "code",
   "execution_count": 21,
   "metadata": {},
   "outputs": [],
   "source": [
    "get_frequency_of_uinque_words_in_labeled_documents(\"0_label\", unique_words_in_0_label, frequency_of_unique_words_in_0_label)\n",
    "get_frequency_of_uinque_words_in_labeled_documents(\"1_label\", unique_words_in_1_label, frequency_of_unique_words_in_1_label)"
   ]
  },
  {
   "cell_type": "heading",
   "metadata": {},
   "level": 2,
   "source": [
    "pickle out frequency_of_unique_words_in_0_label,frequency_of_unique_words_in_1_label"
   ]
  },
  {
   "cell_type": "code",
   "execution_count": null,
   "metadata": {},
   "outputs": [],
   "source": [
    "out_pickle('C:/Users/Abdo/Project/pickle_files/', 'frequency_of_unique_words_in_0_label', frequency_of_unique_words_in_0_label)\n",
    "out_pickle('C:/Users/Abdo/Project/pickle_files/', 'frequency_of_unique_words_in_1_label', frequency_of_unique_words_in_1_label)"
   ]
  },
  {
   "cell_type": "heading",
   "metadata": {},
   "level": 2,
   "source": [
    "read in the frequency_of_unique_words_in_0_label, frequency_of_unique_words_in_1_label"
   ]
  },
  {
   "cell_type": "code",
   "execution_count": 74,
   "metadata": {},
   "outputs": [],
   "source": [
    "frequency_of_unique_words_in_0_label = in_pickle('C:/Users/Abdo/Project/pickle_files/', 'frequency_of_unique_words_in_0_label')\n",
    "frequency_of_unique_words_in_1_label = in_pickle('C:/Users/Abdo/Project/pickle_files/', 'frequency_of_unique_words_in_1_label')"
   ]
  },
  {
   "cell_type": "heading",
   "metadata": {},
   "level": 2,
   "source": [
    "turn the dictionary into list to be able to sort them"
   ]
  },
  {
   "cell_type": "code",
   "execution_count": 25,
   "metadata": {},
   "outputs": [],
   "source": [
    "# [(frequency, word), ....]\n",
    "list_of_uinque_0_label_words_and_frequencies = []\n",
    "list_of_uinque_1_label_words_and_frequencies = []"
   ]
  },
  {
   "cell_type": "code",
   "execution_count": 26,
   "metadata": {},
   "outputs": [],
   "source": [
    "for word in frequency_of_unique_words_in_0_label:\n",
    "    list_of_uinque_0_label_words_and_frequencies.append( (frequency_of_unique_words_in_0_label[word][0], word) )\n",
    "    \n",
    "for word in frequency_of_unique_words_in_1_label:\n",
    "    list_of_uinque_1_label_words_and_frequencies.append( (frequency_of_unique_words_in_1_label[word][0], word) )"
   ]
  },
  {
   "cell_type": "code",
   "execution_count": 27,
   "metadata": {},
   "outputs": [],
   "source": [
    "list_of_uinque_0_label_words_and_frequencies.sort()\n",
    "list_of_uinque_1_label_words_and_frequencies.sort()"
   ]
  },
  {
   "cell_type": "heading",
   "metadata": {},
   "level": 2,
   "source": [
    "pickle out the list_of_uinque_0_label_words_and_frequencies, list_of_uinque_1_label_words_and_frequencies"
   ]
  },
  {
   "cell_type": "code",
   "execution_count": 81,
   "metadata": {},
   "outputs": [],
   "source": [
    "out_pickle('C:/Users/Abdo/Project/pickle_files/', 'list_of_uinque_0_label_words_and_frequencies', list_of_uinque_0_label_words_and_frequencies)\n",
    "out_pickle('C:/Users/Abdo/Project/pickle_files/', 'list_of_uinque_1_label_words_and_frequencies', list_of_uinque_1_label_words_and_frequencies)"
   ]
  },
  {
   "cell_type": "heading",
   "metadata": {},
   "level": 2,
   "source": [
    "read in the list_of_uinque_0_label_words_and_frequencies, list_of_uinque_1_label_words_and_frequencies"
   ]
  },
  {
   "cell_type": "code",
   "execution_count": null,
   "metadata": {},
   "outputs": [],
   "source": [
    "list_of_uinque_0_label_words_and_frequencies = in_pickle('C:/Users/Abdo/Project/pickle_files/', 'list_of_uinque_0_label_words_and_frequencies')\n",
    "list_of_uinque_1_label_words_and_frequencies = in_pickle('C:/Users/Abdo/Project/pickle_files/', 'list_of_uinque_1_label_words_and_frequencies')"
   ]
  },
  {
   "cell_type": "code",
   "execution_count": 28,
   "metadata": {},
   "outputs": [],
   "source": [
    "# the percentage of bad words in every 0_labeled movie\n",
    "# key : movie_id\n",
    "# value : percentage_of_bad_words\n",
    "percentage_of_bad_words_in_0_labeld_movies = {}"
   ]
  },
  {
   "cell_type": "code",
   "execution_count": 29,
   "metadata": {},
   "outputs": [],
   "source": [
    "# find the number of bad words in each 0_label movie\n",
    "for movie_name in data_dictionary[\"0_label\"]:\n",
    "    movie_words_count = len(data_dictionary[\"0_label\"][movie_name])\n",
    "    number_of_bad_words = 0\n",
    "    for bad_word in inappropriate_words_in_0_label_movies:\n",
    "        # if the movie has this bad word\n",
    "        if movie_name in inappropriate_words_in_0_label_movies[bad_word][1]:\n",
    "            # increase the movie total number of bad words by how many time this bad word occurred in this movie\n",
    "            number_of_bad_words += inappropriate_words_in_0_label_movies[bad_word][1][movie_name]\n",
    "    percentage_of_bad_words_in_0_labeld_movies[movie_name] = number_of_bad_words/movie_words_count"
   ]
  },
  {
   "cell_type": "heading",
   "metadata": {},
   "level": 2,
   "source": [
    "pickle out the percentage_of_bad_words_in_0_labeld_movies"
   ]
  },
  {
   "cell_type": "code",
   "execution_count": 99,
   "metadata": {},
   "outputs": [],
   "source": [
    "out_pickle('C:/Users/Abdo/Project/pickle_files/', 'percentage_of_bad_words_in_0_labeld_movies', percentage_of_bad_words_in_0_labeld_movies)"
   ]
  },
  {
   "cell_type": "code",
   "execution_count": 26,
   "metadata": {},
   "outputs": [],
   "source": [
    "percentage_of_bad_words_in_0_labeld_movies = in_pickle('C:/Users/Abdo/Project/pickle_files/', 'percentage_of_bad_words_in_0_labeld_movies')"
   ]
  },
  {
   "cell_type": "code",
   "execution_count": 30,
   "metadata": {},
   "outputs": [],
   "source": [
    "# turn the dictionary into list to sort it\n",
    "# [ (percentage_of_bad_words_in_movie, movie_name) ]\n",
    "percentage_of_bad_words_in_0_labeld_movies_list = []\n",
    "for movie_name in percentage_of_bad_words_in_0_labeld_movies:\n",
    "    percentage_of_bad_words_in_0_labeld_movies_list.append\\\n",
    "        ( (percentage_of_bad_words_in_0_labeld_movies[movie_name], movie_name) )"
   ]
  },
  {
   "cell_type": "code",
   "execution_count": 31,
   "metadata": {},
   "outputs": [],
   "source": [
    "percentage_of_bad_words_in_0_labeld_movies_list.sort()"
   ]
  },
  {
   "cell_type": "code",
   "execution_count": 34,
   "metadata": {},
   "outputs": [],
   "source": [
    "non_english_words = all_text_words.difference(vocabulary)"
   ]
  },
  {
   "cell_type": "code",
   "execution_count": 35,
   "metadata": {},
   "outputs": [],
   "source": [
    "# key : label\n",
    "# value : {movie_id : percentage_of_non_english_words, ..} \n",
    "percentage_of_non_english_words_in_movies = {\"0_label\":{}, \"1_label\":{}}"
   ]
  },
  {
   "cell_type": "code",
   "execution_count": 36,
   "metadata": {},
   "outputs": [],
   "source": [
    "#initlize all keys' values to zero\n",
    "for movie_name in data_dictionary[\"0_label\"]:\n",
    "    percentage_of_non_english_words_in_movies[\"0_label\"][movie_name] = 0\n",
    "\n",
    "for movie_name in data_dictionary[\"1_label\"]:\n",
    "    percentage_of_non_english_words_in_movies[\"1_label\"][movie_name] = 0"
   ]
  },
  {
   "cell_type": "code",
   "execution_count": 39,
   "metadata": {},
   "outputs": [],
   "source": [
    "# takes the label as input\n",
    "# fills dict_of_label_words with movie_id : percentage_of_non_english_words in it\n",
    "def count_non_english_words_in_label(label, dict_of_label_words):\n",
    "    # for every word in the label's dictionary\n",
    "    for word in dict_of_label_words:\n",
    "        if word in non_english_words:\n",
    "            # for each movie in this label that has this word\n",
    "            for movie_name in (dict_of_label_words[word][1]).keys():\n",
    "                percentage_of_non_english_words_in_movies[label][movie_name] += dict_of_label_words[word][1][movie_name]\n",
    "    \n",
    "    #divide the count of non-english words on the total number of words in the movie\n",
    "    for movie_name in data_dictionary[label]:\n",
    "        percentage_of_non_english_words_in_movies[label][movie_name] /= (len(data_dictionary[label][movie_name]))"
   ]
  },
  {
   "cell_type": "code",
   "execution_count": 40,
   "metadata": {},
   "outputs": [],
   "source": [
    "count_non_english_words_in_label(\"0_label\", dict_of_0_label_words)\n",
    "count_non_english_words_in_label(\"1_label\", dict_of_1_label_words)"
   ]
  },
  {
   "cell_type": "code",
   "execution_count": 41,
   "metadata": {},
   "outputs": [],
   "source": [
    "# [ (percentage_of_non_english_words, label, movie_name), ......]\n",
    "percentage_of_non_english_words_list = []"
   ]
  },
  {
   "cell_type": "code",
   "execution_count": 42,
   "metadata": {},
   "outputs": [],
   "source": [
    "# turn the percentage_of_non_english_words_in_movies dictionary to a list to be able to sort it\n",
    "for label in percentage_of_non_english_words_in_movies.keys():\n",
    "    for movie_name in percentage_of_non_english_words_in_movies[label]:\n",
    "        percentage_of_non_english_words_list.append( \n",
    "            (percentage_of_non_english_words_in_movies[label][movie_name],\n",
    "            label, movie_name)\n",
    "        )"
   ]
  },
  {
   "cell_type": "code",
   "execution_count": 43,
   "metadata": {},
   "outputs": [],
   "source": [
    "percentage_of_non_english_words_list.sort(reverse=True)"
   ]
  },
  {
   "cell_type": "heading",
   "metadata": {},
   "level": 2,
   "source": [
    "pickle out the percentage_of_non_english_words_list"
   ]
  },
  {
   "cell_type": "code",
   "execution_count": 48,
   "metadata": {},
   "outputs": [],
   "source": [
    "out_pickle('C:/Users/Abdo/Project/pickle_files/', 'percentage_of_non_english_words_list', percentage_of_non_english_words_list)"
   ]
  },
  {
   "cell_type": "heading",
   "metadata": {},
   "level": 2,
   "source": [
    "read in the percentage_of_non_english_words_list pickle"
   ]
  },
  {
   "cell_type": "code",
   "execution_count": null,
   "metadata": {},
   "outputs": [],
   "source": [
    "percentage_of_non_english_words_list = in_pickle('C:/Users/Abdo/Project/pickle_files/', 'percentage_of_non_english_words_list')"
   ]
  },
  {
   "cell_type": "heading",
   "metadata": {},
   "level": 2,
   "source": [
    "plots"
   ]
  },
  {
   "cell_type": "heading",
   "metadata": {},
   "level": 2,
   "source": [
    "pie chart"
   ]
  },
  {
   "cell_type": "code",
   "execution_count": 59,
   "metadata": {},
   "outputs": [],
   "source": [
    "slice_values_of_chart = []\n",
    "slice_names_of_chart = []\n",
    "for x,y in list_of_uinque_1_label_words_and_frequencies[-10:]:\n",
    "    slice_values_of_chart.append(x)\n",
    "    slice_names_of_chart.append(y)"
   ]
  },
  {
   "cell_type": "code",
   "execution_count": 60,
   "metadata": {
    "collapsed": true
   },
   "outputs": [
    {
     "data": {
      "image/png": "[encoded data removed]",
      "text/plain": [
       "<Figure size 720x720 with 1 Axes>"
      ]
     },
     "metadata": {},
     "output_type": "display_data"
    }
   ],
   "source": [
    "plot_pie_char_and_save_it(slice_values_of_chart,slice_names_of_chart,\n",
    "              \"C:/Users/Abdo/Project/figures/most_frequent_10_words_in_1_label_after_removing_common_words.png\")"
   ]
  },
  {
   "cell_type": "code",
   "execution_count": null,
   "metadata": {},
   "outputs": [],
   "source": []
  }
 ],
 "metadata": {
  "kernelspec": {
   "display_name": "Python 3",
   "language": "python",
   "name": "python3"
  },
  "language_info": {
   "codemirror_mode": {
    "name": "ipython",
    "version": 3
   },
   "file_extension": ".py",
   "mimetype": "text/x-python",
   "name": "python",
   "nbconvert_exporter": "python",
   "pygments_lexer": "ipython3",
   "version": "3.6.5"
  }
 },
 "nbformat": 4,
 "nbformat_minor": 2
}
