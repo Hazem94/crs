{
 "cells": [
  {
   "cell_type": "code",
   "execution_count": 1,
   "metadata": {},
   "outputs": [],
   "source": [
    "import preprocessor_end\n",
    "import os\n",
    "from shutil import copy\n",
    "import pickle\n",
    "import pandas as pd"
   ]
  },
  {
   "cell_type": "code",
   "execution_count": 2,
   "metadata": {
    "collapsed": true
   },
   "outputs": [],
   "source": [
    "#has three keys (0_label, 1_label, no_label)\n",
    "#values: {movie_name:words, ....}\n",
    "pickle_in = open('C:/Users/Abdo/Project/pickle_files/data_dictionary_before_removing_frequent_words.pkl','rb')\n",
    "data_dictionary = pickle.load(pickle_in)\n"
   ]
  },
  {
   "cell_type": "code",
   "execution_count": 3,
   "metadata": {},
   "outputs": [],
   "source": [
    "number_of_0_label_docs = len(data_dictionary[\"0_label\"])\n",
    "number_of_1_label_docs = len(data_dictionary[\"1_label\"])"
   ]
  },
  {
   "cell_type": "code",
   "execution_count": 8,
   "metadata": {},
   "outputs": [],
   "source": [
    "pandas_dict = {}\n",
    "\n",
    "pandas_dict[\"rating\"] = []\n",
    "pandas_dict [\"movie_id\"] = []\n",
    "pandas_dict [\"movie_words\"] = []\n",
    "\n"
   ]
  },
  {
   "cell_type": "code",
   "execution_count": 9,
   "metadata": {},
   "outputs": [],
   "source": [
    "for label in list(data_dictionary.keys())[:2]:\n",
    "    for movie_name in data_dictionary[label]:\n",
    "        pandas_dict[\"rating\"].append(label)\n",
    "        pandas_dict[\"movie_words\"].append(data_dictionary[label][movie_name])\n",
    "        pandas_dict[\"movie_id\"].append(movie_name)"
   ]
  },
  {
   "cell_type": "code",
   "execution_count": 10,
   "metadata": {},
   "outputs": [],
   "source": [
    "# row: index\n",
    "# columns : rating, movie_id, [word, word, ...]\n",
    "data_frames = pd.DataFrame(data=pandas_dict, columns=[\"rating\",\"movie_id\",\"movie_words\"])"
   ]
  },
  {
   "cell_type": "code",
   "execution_count": 11,
   "metadata": {},
   "outputs": [],
   "source": [
    "#with open('C:/Users/Abdo/Project/pickle_files/data_dictionary_before_removing_frequent_words.pkl', 'wb') as output:\n",
    "    #pickle.dump(data_dictionary, output)"
   ]
  },
  {
   "cell_type": "code",
   "execution_count": 12,
   "metadata": {},
   "outputs": [],
   "source": [
    "#with open('C:/Users/Abdo/Project/pickle_files/pandas_data_frame.pkl', 'wb') as output:\n",
    "    #pickle.dump(data_frames, output)"
   ]
  },
  {
   "cell_type": "code",
   "execution_count": 4,
   "metadata": {},
   "outputs": [],
   "source": [
    "pickle_in = open('C:/Users/Abdo/Project/pickle_files/pandas_data_frame.pkl','rb')\n",
    "data_frames = pickle.load(pickle_in)"
   ]
  },
  {
   "cell_type": "code",
   "execution_count": 6,
   "metadata": {},
   "outputs": [
    {
     "name": "stderr",
     "output_type": "stream",
     "text": [
      "C:\\Users\\Abdo\\PycharmProjects\\final_project_1\\venv\\lib\\site-packages\\gensim\\utils.py:1212: UserWarning: detected Windows; aliasing chunkize to chunkize_serial\n  warnings.warn(\"detected Windows; aliasing chunkize to chunkize_serial\")\n"
     ]
    }
   ],
   "source": [
    "pickle_in = open('C:/Users/Abdo/Project/pickle_files/word2vec_model_trained_150.pkl','rb')\n",
    "model = pickle.load(pickle_in)"
   ]
  },
  {
   "cell_type": "code",
   "execution_count": 7,
   "metadata": {},
   "outputs": [],
   "source": [
    "# list_of_lengths_and_id: [ (words_count, movie_id, rating), ..... ]\n",
    "max = (0, \"movie_name\")\n",
    "min = (100000000,\"movie_name\")\n",
    "list_of_lengths_and_id = []\n",
    "\n",
    "for index, row in data_frames.iterrows():\n",
    "    movie_id = row[\"movie_id\"]\n",
    "    rating = row[\"rating\"]\n",
    "    length = len(row[\"movie_words\"])\n",
    "    list_of_lengths_and_id.append( (length, movie_id, rating) )"
   ]
  },
  {
   "cell_type": "code",
   "execution_count": 8,
   "metadata": {},
   "outputs": [],
   "source": [
    "list_of_lengths_and_id.sort()"
   ]
  },
  {
   "cell_type": "code",
   "execution_count": 9,
   "metadata": {
    "collapsed": false
   },
   "outputs": [],
   "source": [
    "# find the max, and min number of words\n",
    "min_number_of_words = list_of_lengths_and_id[0]\n",
    "max_number_of_words = list_of_lengths_and_id[-1]"
   ]
  },
  {
   "cell_type": "code",
   "execution_count": 10,
   "metadata": {},
   "outputs": [],
   "source": [
    "# find the average number of words\n",
    "total = 0\n",
    "for file in list_of_lengths_and_id:\n",
    "    total = total + file[0]\n",
    "average_number_of_words = total / len(list_of_lengths_and_id)"
   ]
  },
  {
   "cell_type": "code",
   "execution_count": 13,
   "metadata": {},
   "outputs": [],
   "source": [
    "#from the word2vec model\n",
    "vocabulary = set(model.wv.vocab)"
   ]
  },
  {
   "cell_type": "code",
   "execution_count": 17,
   "metadata": {},
   "outputs": [],
   "source": [
    "dict_of_1_label_words = {}\n",
    "dict_of_0_label_words = {}"
   ]
  },
  {
   "cell_type": "code",
   "execution_count": 18,
   "metadata": {},
   "outputs": [],
   "source": [
    "# dict_of_0_label_words:\n",
    "# key : word\n",
    "# value: [number_of_total_occurrence, {movie_name:number_of_occurrence_in_movie, movie_name:number_of_occurrence_in_movie, .....}]\n",
    "for movie_name in data_dictionary[\"0_label\"]:\n",
    "    for word in data_dictionary[\"0_label\"][movie_name]:\n",
    "        if word in dict_of_0_label_words:\n",
    "            dict_of_0_label_words[word][0] = dict_of_0_label_words[word][0] + 1\n",
    "            if(movie_name in dict_of_0_label_words[word][1]):\n",
    "                (dict_of_0_label_words[word][1])[movie_name] = (dict_of_0_label_words[word][1])[movie_name] + 1\n",
    "            else:\n",
    "                (dict_of_0_label_words[word][1])[movie_name] = 1\n",
    "        else:\n",
    "            dict_of_0_label_words[word] = [1, {movie_name:1}]"
   ]
  },
  {
   "cell_type": "code",
   "execution_count": 19,
   "metadata": {},
   "outputs": [],
   "source": [
    "for movie_name in data_dictionary[\"1_label\"]:\n",
    "    for word in data_dictionary[\"1_label\"][movie_name]:\n",
    "        if word in dict_of_1_label_words:\n",
    "            dict_of_1_label_words[word][0] = dict_of_1_label_words[word][0] + 1\n",
    "            if(movie_name in dict_of_1_label_words[word][1]):\n",
    "                (dict_of_1_label_words[word][1])[movie_name] = (dict_of_1_label_words[word][1])[movie_name] + 1\n",
    "            else:\n",
    "                (dict_of_1_label_words[word][1])[movie_name] = 1\n",
    "        else:\n",
    "            dict_of_1_label_words[word] = [1, {movie_name:1}]"
   ]
  },
  {
   "cell_type": "code",
   "execution_count": 20,
   "metadata": {},
   "outputs": [],
   "source": [
    "#with open('C:/Users/Abdo/Project/pickle_files/dict_of_1_label_words.pkl', 'wb') as output:\n",
    "    #pickle.dump(dict_of_1_label_words, output)"
   ]
  },
  {
   "cell_type": "code",
   "execution_count": 21,
   "metadata": {},
   "outputs": [],
   "source": [
    "#with open('C:/Users/Abdo/Project/pickle_files/dict_of_0_label_words.pkl', 'wb') as output:\n",
    "    #pickle.dump(dict_of_0_label_words, output)"
   ]
  },
  {
   "cell_type": "code",
   "execution_count": 11,
   "metadata": {},
   "outputs": [],
   "source": [
    "pickle_in = open('C:/Users/Abdo/Project/pickle_files/dict_of_1_label_words.pkl','rb')\n",
    "dict_of_1_label_words = pickle.load(pickle_in)"
   ]
  },
  {
   "cell_type": "code",
   "execution_count": 12,
   "metadata": {},
   "outputs": [],
   "source": [
    "pickle_in = open('C:/Users/Abdo/Project/pickle_files/dict_of_0_label_words.pkl','rb')\n",
    "dict_of_0_label_words = pickle.load(pickle_in)"
   ]
  },
  {
   "cell_type": "code",
   "execution_count": 13,
   "metadata": {},
   "outputs": [],
   "source": [
    "inappropriate_words = []\n",
    "# key : inappropriate_word\n",
    "#value : [total_occurences, {movie_id: occurenes_in_movie,movie_id: occurenes_in_movie,.....}]\n",
    "inappropriate_words_in_0_label_movies = {}"
   ]
  },
  {
   "cell_type": "code",
   "execution_count": 14,
   "metadata": {},
   "outputs": [],
   "source": [
    "file = open(\"C:/Users/Abdo/Project/Notes/inappropriate_words.txt\",\"r\")\n",
    "for word in file.readlines():\n",
    "    inappropriate_words.append(word.replace(\"\\n\",\"\"))"
   ]
  },
  {
   "cell_type": "code",
   "execution_count": 15,
   "metadata": {},
   "outputs": [],
   "source": [
    "#fill the values \n",
    "for inappropriate_word in inappropriate_words:\n",
    "    if inappropriate_word in dict_of_0_label_words:\n",
    "        inappropriate_words_in_0_label_movies[inappropriate_word] = dict_of_0_label_words[inappropriate_word]\n",
    "    else:\n",
    "        inappropriate_words_in_0_label_movies[inappropriate_word] = [0,[]]"
   ]
  },
  {
   "cell_type": "code",
   "execution_count": 17,
   "metadata": {},
   "outputs": [],
   "source": [
    "#with open('C:/Users/Abdo/Project/pickle_files/inappropriate_words_in_0_label_movies.pkl', 'wb') as output:\n",
    "    #pickle.dump(inappropriate_words_in_0_label_movies, output)"
   ]
  },
  {
   "cell_type": "code",
   "execution_count": null,
   "metadata": {},
   "outputs": [],
   "source": [
    "#pickle_in = open('C:/Users/Abdo/Project/pickle_files/inappropriate_words_in_0_label_movies.pkl','rb')\n",
    "#inappropriate_words_in_0_label_movies = pickle.load(pickle_in)"
   ]
  },
  {
   "cell_type": "code",
   "execution_count": 20,
   "metadata": {},
   "outputs": [],
   "source": [
    "#total_words_in_all_movies\n",
    "all_text_words = set(dict_of_1_label_words.keys())\n",
    "all_text_words.update(set(dict_of_0_label_words.keys()))"
   ]
  },
  {
   "cell_type": "code",
   "execution_count": 21,
   "metadata": {},
   "outputs": [],
   "source": [
    "common_words = set(dict_of_1_label_words.keys()).intersection(set(dict_of_0_label_words.keys()))"
   ]
  },
  {
   "cell_type": "code",
   "execution_count": 22,
   "metadata": {},
   "outputs": [],
   "source": [
    "percentage_of_common_words = len(common_words)/len(all_text_words)"
   ]
  },
  {
   "cell_type": "code",
   "execution_count": 23,
   "metadata": {},
   "outputs": [],
   "source": [
    "unique_words_in_0_label = set(dict_of_0_label_words.keys()).difference(common_words)\n",
    "unique_words_in_1_label = set(dict_of_1_label_words.keys()).difference(common_words)"
   ]
  },
  {
   "cell_type": "code",
   "execution_count": 64,
   "metadata": {},
   "outputs": [],
   "source": [
    "# key : word\n",
    "# value : [ [total frequency, {movie_name: frequency_of_word_in_movie},..] , .... ] \n",
    "frequency_of_unique_words_in_0_label = {}\n",
    "frequency_of_unique_words_in_1_label = {}"
   ]
  },
  {
   "cell_type": "code",
   "execution_count": 65,
   "metadata": {},
   "outputs": [],
   "source": [
    "for movie_name in data_dictionary[\"0_label\"]:\n",
    "    for word in data_dictionary[\"0_label\"][movie_name]:\n",
    "        if word in unique_words_in_0_label:\n",
    "            if word in frequency_of_unique_words_in_0_label:\n",
    "                frequency_of_unique_words_in_0_label[word][0] = frequency_of_unique_words_in_0_label[word][0]+1\n",
    "                if movie_name in frequency_of_unique_words_in_0_label[word][1]:\n",
    "                    frequency_of_unique_words_in_0_label[word][1][movie_name] = \\\n",
    "                    frequency_of_unique_words_in_0_label[word][1][movie_name]+1\n",
    "                else:\n",
    "                    frequency_of_unique_words_in_0_label[word][1][movie_name] = 1\n",
    "            else:\n",
    "                frequency_of_unique_words_in_0_label[word] = [1, {movie_name:1}]\n",
    "        "
   ]
  },
  {
   "cell_type": "code",
   "execution_count": 72,
   "metadata": {},
   "outputs": [],
   "source": [
    "for movie_name in data_dictionary[\"1_label\"]:\n",
    "    for word in data_dictionary[\"1_label\"][movie_name]:\n",
    "        if word in unique_words_in_1_label:\n",
    "            if word in frequency_of_unique_words_in_1_label:\n",
    "                frequency_of_unique_words_in_1_label[word][0] = frequency_of_unique_words_in_1_label[word][0]+1\n",
    "                if movie_name in frequency_of_unique_words_in_1_label[word][1]:\n",
    "                    frequency_of_unique_words_in_1_label[word][1][movie_name] = \\\n",
    "                    frequency_of_unique_words_in_1_label[word][1][movie_name]+1\n",
    "                else:\n",
    "                    frequency_of_unique_words_in_1_label[word][1][movie_name] = 1\n",
    "            else:\n",
    "                frequency_of_unique_words_in_1_label[word] = [1, {movie_name:1}]"
   ]
  },
  {
   "cell_type": "code",
   "execution_count": 73,
   "metadata": {},
   "outputs": [],
   "source": [
    "#with open('C:/Users/Abdo/Project/pickle_files/frequency_of_unique_words_in_1_label.pkl', 'wb') as output:\n",
    "    #pickle.dump(frequency_of_unique_words_in_1_label, output)"
   ]
  },
  {
   "cell_type": "code",
   "execution_count": 74,
   "metadata": {},
   "outputs": [],
   "source": [
    "#with open('C:/Users/Abdo/Project/pickle_files/frequency_of_unique_words_in_0_label.pkl', 'wb') as output:\n",
    "    #pickle.dump(frequency_of_unique_words_in_0_label, output)"
   ]
  },
  {
   "cell_type": "code",
   "execution_count": null,
   "metadata": {},
   "outputs": [],
   "source": [
    "#pickle_in = open('C:/Users/Abdo/Project/pickle_files/frequency_of_unique_words_in_0_label.pkl','rb')\n",
    "#frequency_of_unique_words_in_0_label = pickle.load(pickle_in)"
   ]
  },
  {
   "cell_type": "code",
   "execution_count": null,
   "metadata": {},
   "outputs": [],
   "source": [
    "#pickle_in = open('C:/Users/Abdo/Project/pickle_files/frequency_of_unique_words_in_1_label.pkl','rb')\n",
    "#frequency_of_unique_words_in_1_label = pickle.load(pickle_in)"
   ]
  },
  {
   "cell_type": "code",
   "execution_count": 75,
   "metadata": {},
   "outputs": [],
   "source": [
    "# [(frequency, word), ....]\n",
    "list_of_uinque_0_label_words_and_frequencies = []\n",
    "list_of_uinque_1_label_words_and_frequencies = []"
   ]
  },
  {
   "cell_type": "code",
   "execution_count": 76,
   "metadata": {},
   "outputs": [],
   "source": [
    "for word in frequency_of_unique_words_in_0_label:\n",
    "    list_of_uinque_0_label_words_and_frequencies.append( (frequency_of_unique_words_in_0_label[word][0], word) )"
   ]
  },
  {
   "cell_type": "code",
   "execution_count": 77,
   "metadata": {},
   "outputs": [],
   "source": [
    "for word in frequency_of_unique_words_in_1_label:\n",
    "    list_of_uinque_1_label_words_and_frequencies.append( (frequency_of_unique_words_in_1_label[word][0], word) )"
   ]
  },
  {
   "cell_type": "code",
   "execution_count": 78,
   "metadata": {},
   "outputs": [],
   "source": [
    "list_of_uinque_0_label_words_and_frequencies.sort()\n",
    "list_of_uinque_1_label_words_and_frequencies.sort()"
   ]
  },
  {
   "cell_type": "code",
   "execution_count": 81,
   "metadata": {},
   "outputs": [],
   "source": [
    "#with open('C:/Users/Abdo/Project/pickle_files/list_of_uinque_0_label_words_and_frequencies.pkl', 'wb') as output:\n",
    "    #pickle.dump(list_of_uinque_0_label_words_and_frequencies, output)"
   ]
  },
  {
   "cell_type": "code",
   "execution_count": 82,
   "metadata": {},
   "outputs": [],
   "source": [
    "#with open('C:/Users/Abdo/Project/pickle_files/list_of_uinque_1_label_words_and_frequencies.pkl', 'wb') as output:\n",
    "    #pickle.dump(list_of_uinque_1_label_words_and_frequencies, output)"
   ]
  },
  {
   "cell_type": "code",
   "execution_count": 24,
   "metadata": {},
   "outputs": [],
   "source": [
    "pickle_in = open('C:/Users/Abdo/Project/pickle_files/list_of_uinque_1_label_words_and_frequencies.pkl','rb')\n",
    "list_of_uinque_1_label_words_and_frequencies = pickle.load(pickle_in)"
   ]
  },
  {
   "cell_type": "code",
   "execution_count": 25,
   "metadata": {},
   "outputs": [],
   "source": [
    "pickle_in = open('C:/Users/Abdo/Project/pickle_files/list_of_uinque_0_label_words_and_frequencies.pkl','rb')\n",
    "list_of_uinque_0_label_words_and_frequencies = pickle.load(pickle_in)"
   ]
  },
  {
   "cell_type": "code",
   "execution_count": 87,
   "metadata": {},
   "outputs": [],
   "source": [
    "# the percentage of bad words in every 0_labeled movie\n",
    "# key : movie_id\n",
    "# value : percentage_of_bad_words\n",
    "percentage_of_bad_words_in_0_labeld_movies = {}"
   ]
  },
  {
   "cell_type": "code",
   "execution_count": 89,
   "metadata": {},
   "outputs": [],
   "source": [
    "for movie_name in data_dictionary[\"0_label\"]:\n",
    "    movie_words_count = len(data_dictionary[\"0_label\"][movie_name])\n",
    "    number_of_bad_words = 0\n",
    "    for bad_word in inappropriate_words_in_0_label_movies:\n",
    "        if movie_name in inappropriate_words_in_0_label_movies[bad_word][1]:\n",
    "            number_of_bad_words = number_of_bad_words + \\\n",
    "            inappropriate_words_in_0_label_movies[bad_word][1][movie_name]\n",
    "    percentage_of_bad_words_in_0_labeld_movies[movie_name] = number_of_bad_words/movie_words_count"
   ]
  },
  {
   "cell_type": "code",
   "execution_count": 99,
   "metadata": {},
   "outputs": [],
   "source": [
    "#with open('C:/Users/Abdo/Project/pickle_files/percentage_of_bad_words_in_0_labeld_movies.pkl', 'wb') as output:\n",
    "    #pickle.dump(percentage_of_bad_words_in_0_labeld_movies, output)"
   ]
  },
  {
   "cell_type": "code",
   "execution_count": 26,
   "metadata": {},
   "outputs": [],
   "source": [
    "pickle_in = open('C:/Users/Abdo/Project/pickle_files/percentage_of_bad_words_in_0_labeld_movies.pkl','rb')\n",
    "percentage_of_bad_words_in_0_labeld_movies = pickle.load(pickle_in)"
   ]
  },
  {
   "cell_type": "code",
   "execution_count": 27,
   "metadata": {},
   "outputs": [],
   "source": [
    "# turn the dictionary into list to sort it\n",
    "# [ (percentage_of_bad_words_in_movie, movie_name) ]\n",
    "percentage_of_bad_words_in_0_labeld_movies_list = []\n",
    "for movie_name in percentage_of_bad_words_in_0_labeld_movies:\n",
    "    percentage_of_bad_words_in_0_labeld_movies_list.append\\\n",
    "        ( (percentage_of_bad_words_in_0_labeld_movies[movie_name], movie_name) )"
   ]
  },
  {
   "cell_type": "code",
   "execution_count": 28,
   "metadata": {},
   "outputs": [],
   "source": [
    "percentage_of_bad_words_in_0_labeld_movies_list.sort()"
   ]
  },
  {
   "cell_type": "code",
   "execution_count": 29,
   "metadata": {},
   "outputs": [
    {
     "name": "stdout",
     "output_type": "stream",
     "text": [
      "(0.019112874143526866, 'PG_4918')\n"
     ]
    }
   ],
   "source": [
    "print(percentage_of_bad_words_in_0_labeld_movies_list[-1])"
   ]
  },
  {
   "cell_type": "code",
   "execution_count": null,
   "metadata": {},
   "outputs": [],
   "source": []
  }
 ],
 "metadata": {
  "kernelspec": {
   "display_name": "Python 3",
   "language": "python",
   "name": "python3"
  },
  "language_info": {
   "codemirror_mode": {
    "name": "ipython",
    "version": 3
   },
   "file_extension": ".py",
   "mimetype": "text/x-python",
   "name": "python",
   "nbconvert_exporter": "python",
   "pygments_lexer": "ipython3",
   "version": "3.6.5"
  }
 },
 "nbformat": 4,
 "nbformat_minor": 2
}
